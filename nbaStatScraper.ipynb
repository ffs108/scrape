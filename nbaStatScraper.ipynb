{
 "cells": [
  {
   "cell_type": "code",
   "execution_count": 7,
   "id": "460c607a",
   "metadata": {},
   "outputs": [],
   "source": [
    "'''\n",
    "Francisco Figueroa\n",
    "06/30/2022\n",
    "scraper.py\n",
    "'''\n",
    "from selenium import webdriver\n",
    "from selenium.webdriver.support.ui import Select\n",
    "from bs4 import BeautifulSoup\n",
    "import pandas as pd\n",
    "\n",
    "url = r'https://www.nba.com/stats/players/advanced/?sort=GP&dir=-1' #can change this\n",
    "driver = webdriver.Chrome() #webdriver.Firefox()\n",
    "driver.get(url)\n",
    "\n",
    "#selects season type drop down menu and sets it to regular season\n",
    "#this can be commented out depending if currently regular season, if post or after post it is needed\n",
    "select = Select(driver.find_element('xpath',r\"/html/body/main/div/div/div[2]/div/div/div[1]/div[2]/div/div/label/select\"))\n",
    "select.select_by_index(1) #this is index of regular season 6/30/22\n",
    "\n",
    "#selects the page drop down menu and sets it to show all\n",
    "select = Select(driver.find_element('xpath', r\"/html/body/main/div/div/div[2]/div/div/nba-stat-table/div[1]/div/div/select\"))\n",
    "select.select_by_index(0)\n",
    "\n",
    "source = driver.page_source\n",
    "parser = BeautifulSoup(source, 'lxml')\n",
    "table = parser.find(\"div\", attrs={\"class\": \"nba-stat-table__overflow\"})\n",
    "titles = table.find_all('th')\n",
    "#clean each title of html tags and placing them in an array exluding the first\n",
    "header = [title.text.strip() for title in titles[1:]]\n",
    "#keeping each element in og header that does not contain hidden attr \"RANK\"\n",
    "header = [el for el in header if not \"RANK\" in el]\n",
    "header = header[:-5]\n",
    "rows = table.findAll('tr')[1:]\n",
    "#for every row in table, find all <td> tags and strip them of anything not the data\n",
    "stats = [[td.getText().strip() for td in rows[i].findAll('td')[1:]] for i in range(len(rows))]\n",
    "df = pd.DataFrame(stats, columns=header)\n",
    "\n",
    "#create excel file, write dataframe onto it, and save it\n",
    "writer = pd.ExcelWriter('nbaStats.xlsx', engine=\"xlsxwriter\")\n",
    "df.to_excel(writer, sheet_name='NBA Reg. Szn', index=False)\n",
    "writer.save()\n",
    "\n",
    "#close webdriver.Chrome() window\n",
    "driver.close()\n",
    "\n"
   ]
  },
  {
   "cell_type": "code",
   "execution_count": null,
   "id": "40a45541",
   "metadata": {},
   "outputs": [],
   "source": []
  }
 ],
 "metadata": {
  "kernelspec": {
   "display_name": "Python 3",
   "language": "python",
   "name": "python3"
  },
  "language_info": {
   "codemirror_mode": {
    "name": "ipython",
    "version": 3
   },
   "file_extension": ".py",
   "mimetype": "text/x-python",
   "name": "python",
   "nbconvert_exporter": "python",
   "pygments_lexer": "ipython3",
   "version": "3.8.8"
  }
 },
 "nbformat": 4,
 "nbformat_minor": 5
}
