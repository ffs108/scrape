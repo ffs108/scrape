{
 "cells": [
  {
   "cell_type": "code",
   "execution_count": 16,
   "id": "460c607a",
   "metadata": {},
   "outputs": [
    {
     "ename": "NoSuchElementException",
     "evalue": "Message: no such element: Unable to locate element: {\"method\":\"xpath\",\"selector\":\"/html/body/main/div/div/div[2]/div/div/nba-stat-table/div[1]/div/div/select\"}\n  (Session info: chrome=102.0.5005.115)\nStacktrace:\nBacktrace:\n\tOrdinal0 [0x0059D953+2414931]\n\tOrdinal0 [0x0052F5E1+1963489]\n\tOrdinal0 [0x0041C6B8+837304]\n\tOrdinal0 [0x00449500+1021184]\n\tOrdinal0 [0x0044979B+1021851]\n\tOrdinal0 [0x00476502+1205506]\n\tOrdinal0 [0x004644E4+1131748]\n\tOrdinal0 [0x00474812+1198098]\n\tOrdinal0 [0x004642B6+1131190]\n\tOrdinal0 [0x0043E860+976992]\n\tOrdinal0 [0x0043F756+980822]\n\tGetHandleVerifier [0x0080CC62+2510274]\n\tGetHandleVerifier [0x007FF760+2455744]\n\tGetHandleVerifier [0x0062EABA+551962]\n\tGetHandleVerifier [0x0062D916+547446]\n\tOrdinal0 [0x00535F3B+1990459]\n\tOrdinal0 [0x0053A898+2009240]\n\tOrdinal0 [0x0053A985+2009477]\n\tOrdinal0 [0x00543AD1+2046673]\n\tBaseThreadInitThunk [0x75E36739+25]\n\tRtlGetFullPathName_UEx [0x77088FEF+1215]\n\tRtlGetFullPathName_UEx [0x77088FBD+1165]\n",
     "output_type": "error",
     "traceback": [
      "\u001b[1;31m---------------------------------------------------------------------------\u001b[0m",
      "\u001b[1;31mNoSuchElementException\u001b[0m                    Traceback (most recent call last)",
      "\u001b[1;32m<ipython-input-16-88701b2b48f9>\u001b[0m in \u001b[0;36m<module>\u001b[1;34m\u001b[0m\n\u001b[0;32m     20\u001b[0m \u001b[1;33m\u001b[0m\u001b[0m\n\u001b[0;32m     21\u001b[0m \u001b[1;31m#selects the page drop down menu and sets it to show all\u001b[0m\u001b[1;33m\u001b[0m\u001b[1;33m\u001b[0m\u001b[1;33m\u001b[0m\u001b[0m\n\u001b[1;32m---> 22\u001b[1;33m \u001b[0mselect\u001b[0m \u001b[1;33m=\u001b[0m \u001b[0mSelect\u001b[0m\u001b[1;33m(\u001b[0m\u001b[0mdriver\u001b[0m\u001b[1;33m.\u001b[0m\u001b[0mfind_element\u001b[0m\u001b[1;33m(\u001b[0m\u001b[1;34m'xpath'\u001b[0m\u001b[1;33m,\u001b[0m\u001b[1;34m\"/html/body/main/div/div/div[2]/div/div/nba-stat-table/div[1]/div/div/select\"\u001b[0m\u001b[1;33m)\u001b[0m\u001b[1;33m)\u001b[0m\u001b[1;33m\u001b[0m\u001b[1;33m\u001b[0m\u001b[0m\n\u001b[0m\u001b[0;32m     23\u001b[0m \u001b[0mselect\u001b[0m\u001b[1;33m.\u001b[0m\u001b[0mselect_by_index\u001b[0m\u001b[1;33m(\u001b[0m\u001b[1;36m0\u001b[0m\u001b[1;33m)\u001b[0m\u001b[1;33m\u001b[0m\u001b[1;33m\u001b[0m\u001b[0m\n\u001b[0;32m     24\u001b[0m \u001b[1;33m\u001b[0m\u001b[0m\n",
      "\u001b[1;32m~\\anaconda3\\lib\\site-packages\\selenium\\webdriver\\remote\\webdriver.py\u001b[0m in \u001b[0;36mfind_element\u001b[1;34m(self, by, value)\u001b[0m\n\u001b[0;32m   1236\u001b[0m             \u001b[0mvalue\u001b[0m \u001b[1;33m=\u001b[0m \u001b[1;34m'[name=\"%s\"]'\u001b[0m \u001b[1;33m%\u001b[0m \u001b[0mvalue\u001b[0m\u001b[1;33m\u001b[0m\u001b[1;33m\u001b[0m\u001b[0m\n\u001b[0;32m   1237\u001b[0m \u001b[1;33m\u001b[0m\u001b[0m\n\u001b[1;32m-> 1238\u001b[1;33m         return self.execute(Command.FIND_ELEMENT, {\n\u001b[0m\u001b[0;32m   1239\u001b[0m             \u001b[1;34m'using'\u001b[0m\u001b[1;33m:\u001b[0m \u001b[0mby\u001b[0m\u001b[1;33m,\u001b[0m\u001b[1;33m\u001b[0m\u001b[1;33m\u001b[0m\u001b[0m\n\u001b[0;32m   1240\u001b[0m             'value': value})['value']\n",
      "\u001b[1;32m~\\anaconda3\\lib\\site-packages\\selenium\\webdriver\\remote\\webdriver.py\u001b[0m in \u001b[0;36mexecute\u001b[1;34m(self, driver_command, params)\u001b[0m\n\u001b[0;32m    416\u001b[0m         \u001b[0mresponse\u001b[0m \u001b[1;33m=\u001b[0m \u001b[0mself\u001b[0m\u001b[1;33m.\u001b[0m\u001b[0mcommand_executor\u001b[0m\u001b[1;33m.\u001b[0m\u001b[0mexecute\u001b[0m\u001b[1;33m(\u001b[0m\u001b[0mdriver_command\u001b[0m\u001b[1;33m,\u001b[0m \u001b[0mparams\u001b[0m\u001b[1;33m)\u001b[0m\u001b[1;33m\u001b[0m\u001b[1;33m\u001b[0m\u001b[0m\n\u001b[0;32m    417\u001b[0m         \u001b[1;32mif\u001b[0m \u001b[0mresponse\u001b[0m\u001b[1;33m:\u001b[0m\u001b[1;33m\u001b[0m\u001b[1;33m\u001b[0m\u001b[0m\n\u001b[1;32m--> 418\u001b[1;33m             \u001b[0mself\u001b[0m\u001b[1;33m.\u001b[0m\u001b[0merror_handler\u001b[0m\u001b[1;33m.\u001b[0m\u001b[0mcheck_response\u001b[0m\u001b[1;33m(\u001b[0m\u001b[0mresponse\u001b[0m\u001b[1;33m)\u001b[0m\u001b[1;33m\u001b[0m\u001b[1;33m\u001b[0m\u001b[0m\n\u001b[0m\u001b[0;32m    419\u001b[0m             response['value'] = self._unwrap_value(\n\u001b[0;32m    420\u001b[0m                 response.get('value', None))\n",
      "\u001b[1;32m~\\anaconda3\\lib\\site-packages\\selenium\\webdriver\\remote\\errorhandler.py\u001b[0m in \u001b[0;36mcheck_response\u001b[1;34m(self, response)\u001b[0m\n\u001b[0;32m    241\u001b[0m                 \u001b[0malert_text\u001b[0m \u001b[1;33m=\u001b[0m \u001b[0mvalue\u001b[0m\u001b[1;33m[\u001b[0m\u001b[1;34m'alert'\u001b[0m\u001b[1;33m]\u001b[0m\u001b[1;33m.\u001b[0m\u001b[0mget\u001b[0m\u001b[1;33m(\u001b[0m\u001b[1;34m'text'\u001b[0m\u001b[1;33m)\u001b[0m\u001b[1;33m\u001b[0m\u001b[1;33m\u001b[0m\u001b[0m\n\u001b[0;32m    242\u001b[0m             \u001b[1;32mraise\u001b[0m \u001b[0mexception_class\u001b[0m\u001b[1;33m(\u001b[0m\u001b[0mmessage\u001b[0m\u001b[1;33m,\u001b[0m \u001b[0mscreen\u001b[0m\u001b[1;33m,\u001b[0m \u001b[0mstacktrace\u001b[0m\u001b[1;33m,\u001b[0m \u001b[0malert_text\u001b[0m\u001b[1;33m)\u001b[0m  \u001b[1;31m# type: ignore[call-arg]  # mypy is not smart enough here\u001b[0m\u001b[1;33m\u001b[0m\u001b[1;33m\u001b[0m\u001b[0m\n\u001b[1;32m--> 243\u001b[1;33m         \u001b[1;32mraise\u001b[0m \u001b[0mexception_class\u001b[0m\u001b[1;33m(\u001b[0m\u001b[0mmessage\u001b[0m\u001b[1;33m,\u001b[0m \u001b[0mscreen\u001b[0m\u001b[1;33m,\u001b[0m \u001b[0mstacktrace\u001b[0m\u001b[1;33m)\u001b[0m\u001b[1;33m\u001b[0m\u001b[1;33m\u001b[0m\u001b[0m\n\u001b[0m\u001b[0;32m    244\u001b[0m \u001b[1;33m\u001b[0m\u001b[0m\n\u001b[0;32m    245\u001b[0m     \u001b[1;32mdef\u001b[0m \u001b[0m_value_or_default\u001b[0m\u001b[1;33m(\u001b[0m\u001b[0mself\u001b[0m\u001b[1;33m,\u001b[0m \u001b[0mobj\u001b[0m\u001b[1;33m:\u001b[0m \u001b[0mMapping\u001b[0m\u001b[1;33m[\u001b[0m\u001b[0m_KT\u001b[0m\u001b[1;33m,\u001b[0m \u001b[0m_VT\u001b[0m\u001b[1;33m]\u001b[0m\u001b[1;33m,\u001b[0m \u001b[0mkey\u001b[0m\u001b[1;33m:\u001b[0m \u001b[0m_KT\u001b[0m\u001b[1;33m,\u001b[0m \u001b[0mdefault\u001b[0m\u001b[1;33m:\u001b[0m \u001b[0m_VT\u001b[0m\u001b[1;33m)\u001b[0m \u001b[1;33m->\u001b[0m \u001b[0m_VT\u001b[0m\u001b[1;33m:\u001b[0m\u001b[1;33m\u001b[0m\u001b[1;33m\u001b[0m\u001b[0m\n",
      "\u001b[1;31mNoSuchElementException\u001b[0m: Message: no such element: Unable to locate element: {\"method\":\"xpath\",\"selector\":\"/html/body/main/div/div/div[2]/div/div/nba-stat-table/div[1]/div/div/select\"}\n  (Session info: chrome=102.0.5005.115)\nStacktrace:\nBacktrace:\n\tOrdinal0 [0x0059D953+2414931]\n\tOrdinal0 [0x0052F5E1+1963489]\n\tOrdinal0 [0x0041C6B8+837304]\n\tOrdinal0 [0x00449500+1021184]\n\tOrdinal0 [0x0044979B+1021851]\n\tOrdinal0 [0x00476502+1205506]\n\tOrdinal0 [0x004644E4+1131748]\n\tOrdinal0 [0x00474812+1198098]\n\tOrdinal0 [0x004642B6+1131190]\n\tOrdinal0 [0x0043E860+976992]\n\tOrdinal0 [0x0043F756+980822]\n\tGetHandleVerifier [0x0080CC62+2510274]\n\tGetHandleVerifier [0x007FF760+2455744]\n\tGetHandleVerifier [0x0062EABA+551962]\n\tGetHandleVerifier [0x0062D916+547446]\n\tOrdinal0 [0x00535F3B+1990459]\n\tOrdinal0 [0x0053A898+2009240]\n\tOrdinal0 [0x0053A985+2009477]\n\tOrdinal0 [0x00543AD1+2046673]\n\tBaseThreadInitThunk [0x75E36739+25]\n\tRtlGetFullPathName_UEx [0x77088FEF+1215]\n\tRtlGetFullPathName_UEx [0x77088FBD+1165]\n"
     ]
    }
   ],
   "source": [
    "'''\n",
    "Francisco Figueroa\n",
    "06/30/2022\n",
    "scraper.py\n",
    "'''\n",
    "from selenium import webdriver\n",
    "from selenium.webdriver.support.ui import Select\n",
    "from bs4 import BeautifulSoup\n",
    "import pandas as pd\n",
    "\n",
    "url = r'https://www.nba.com/stats/players/advanced/?sort=GP&dir=-1' #can change this\n",
    "driver = webdriver.Chrome() #webdriver.Firefox()\n",
    "driver.get(url)\n",
    "\n",
    "#selects season type drop down menu and sets it to regular season\n",
    "#this can be commented out depending if currently regular season, if post or after post it is needed\n",
    "select = Select(driver.find_element('xpath',\"/html/body/main/div/div/div[2]/div/div/div[1]/div[2]/div/div/label/select\"))\n",
    "select.select_by_index(1) #this is index of regular season as of 6/30/22\n",
    "select = \"\"\n",
    "\n",
    "#selects the page drop down menu and sets it to show all\n",
    "select = Select(driver.find_element('xpath',\"/html/body/main/div/div/div[2]/div/div/nba-stat-table/div[1]/div/div/select\"))\n",
    "select.select_by_index(0)\n",
    "\n",
    "source = driver.page_source\n",
    "parser = BeautifulSoup(source, 'lxml')\n",
    "table = parser.find(\"div\", attrs={\"class\": \"nba-stat-table__overflow\"})\n",
    "titles = table.find_all('th')\n",
    "#clean each title of html tags and placing them in an array exluding the first\n",
    "header = [title.text.strip() for title in titles[1:]]\n",
    "#keeping each element in og header that does not contain hidden attr \"RANK\"\n",
    "header = [el for el in header if not \"RANK\" in el]\n",
    "header = header[:-5]\n",
    "rows = table.findAll('tr')[1:]\n",
    "#for every row in table, find all <td> tags and strip them of anything not the data\n",
    "stats = [[td.getText().strip() for td in rows[i].findAll('td')[1:]] for i in range(len(rows))]\n",
    "df = pd.DataFrame(stats, columns=header)\n",
    "\n",
    "#create excel file, write dataframe onto it, and save it\n",
    "writer = pd.ExcelWriter('nbaStats.xlsx', engine=\"xlsxwriter\")\n",
    "df.to_excel(writer, sheet_name='NBA Reg. Szn', index=False)\n",
    "writer.save()\n",
    "\n",
    "#close webdriver.Chrome() window\n",
    "driver.close()\n",
    "\n"
   ]
  },
  {
   "cell_type": "code",
   "execution_count": null,
   "id": "40a45541",
   "metadata": {},
   "outputs": [],
   "source": []
  }
 ],
 "metadata": {
  "kernelspec": {
   "display_name": "Python 3",
   "language": "python",
   "name": "python3"
  },
  "language_info": {
   "codemirror_mode": {
    "name": "ipython",
    "version": 3
   },
   "file_extension": ".py",
   "mimetype": "text/x-python",
   "name": "python",
   "nbconvert_exporter": "python",
   "pygments_lexer": "ipython3",
   "version": "3.8.8"
  }
 },
 "nbformat": 4,
 "nbformat_minor": 5
}
